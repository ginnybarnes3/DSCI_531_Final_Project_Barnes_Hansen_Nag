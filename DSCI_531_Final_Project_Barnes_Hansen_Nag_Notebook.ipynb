{
 "cells": [
  {
   "cell_type": "code",
   "execution_count": 1,
   "id": "initial_id",
   "metadata": {
    "collapsed": true,
    "ExecuteTime": {
     "end_time": "2024-02-28T05:46:25.864755800Z",
     "start_time": "2024-02-28T05:46:25.858107900Z"
    }
   },
   "outputs": [],
   "source": [
    "# Ginny Barnes, Peyton Hansen, Aakriti Nag\n",
    "# DSCI 531\n",
    "# Final Project\n",
    "# Racial Bias in Hospitalization Time Predictions\n"
   ]
  },
  {
   "cell_type": "code",
   "execution_count": 2,
   "outputs": [],
   "source": [
    "# Import Libraries\n",
    "\n",
    "import pandas as pd"
   ],
   "metadata": {
    "collapsed": false,
    "ExecuteTime": {
     "end_time": "2024-02-28T05:46:30.351156Z",
     "start_time": "2024-02-28T05:46:28.579996500Z"
    }
   },
   "id": "641eb4a64a5f78db"
  },
  {
   "cell_type": "code",
   "execution_count": 3,
   "outputs": [],
   "source": [
    "# Import Data\n",
    "pd.set_option('display.max_columns', None);\n",
    "\n",
    "diabeticDF = pd.read_csv('./DSCI531_Hospitalization_Time_Final_Project_Data/diabetic_data.csv')\n",
    "hospitalDF = pd.read_csv('./DSCI531_Hospitalization_Time_Final_Project_Data/mimic3d.csv')"
   ],
   "metadata": {
    "collapsed": false,
    "ExecuteTime": {
     "end_time": "2024-02-28T05:46:33.436911400Z",
     "start_time": "2024-02-28T05:46:31.936108700Z"
    }
   },
   "id": "ab9a1e7f3e3b9c15"
  },
  {
   "cell_type": "code",
   "execution_count": 4,
   "outputs": [
    {
     "name": "stdout",
     "output_type": "stream",
     "text": [
      "Index(['encounter_id', 'patient_nbr', 'race', 'gender', 'age', 'weight',\n",
      "       'admission_type_id', 'discharge_disposition_id', 'admission_source_id',\n",
      "       'time_in_hospital', 'payer_code', 'medical_specialty',\n",
      "       'num_lab_procedures', 'num_procedures', 'num_medications',\n",
      "       'number_outpatient', 'number_emergency', 'number_inpatient', 'diag_1',\n",
      "       'diag_2', 'diag_3', 'number_diagnoses', 'max_glu_serum', 'A1Cresult',\n",
      "       'metformin', 'repaglinide', 'nateglinide', 'chlorpropamide',\n",
      "       'glimepiride', 'acetohexamide', 'glipizide', 'glyburide', 'tolbutamide',\n",
      "       'pioglitazone', 'rosiglitazone', 'acarbose', 'miglitol', 'troglitazone',\n",
      "       'tolazamide', 'examide', 'citoglipton', 'insulin',\n",
      "       'glyburide-metformin', 'glipizide-metformin',\n",
      "       'glimepiride-pioglitazone', 'metformin-rosiglitazone',\n",
      "       'metformin-pioglitazone', 'change', 'diabetesMed', 'readmitted'],\n",
      "      dtype='object')\n",
      "Index(['hadm_id', 'gender', 'age', 'LOSdays', 'admit_type', 'admit_location',\n",
      "       'AdmitDiagnosis', 'insurance', 'religion', 'marital_status',\n",
      "       'ethnicity', 'NumCallouts', 'NumDiagnosis', 'NumProcs',\n",
      "       'AdmitProcedure', 'NumCPTevents', 'NumInput', 'NumLabs', 'NumMicroLabs',\n",
      "       'NumNotes', 'NumOutput', 'NumRx', 'NumProcEvents', 'NumTransfers',\n",
      "       'NumChartEvents', 'ExpiredHospital', 'TotalNumInteract', 'LOSgroupNum'],\n",
      "      dtype='object')\n"
     ]
    }
   ],
   "source": [
    "print(diabeticDF.columns)\n",
    "print(hospitalDF.columns)"
   ],
   "metadata": {
    "collapsed": false,
    "ExecuteTime": {
     "end_time": "2024-02-28T05:46:34.072547400Z",
     "start_time": "2024-02-28T05:46:34.010676800Z"
    }
   },
   "id": "79e162146f57c96b"
  },
  {
   "cell_type": "code",
   "execution_count": 5,
   "outputs": [],
   "source": [
    "diabeticDF = diabeticDF[['race', 'gender', 'age', 'admission_type_id', 'num_procedures', 'number_diagnoses','num_medications', 'time_in_hospital']]\n",
    "hospitalDF = hospitalDF[['ethnicity', 'gender', 'age', 'admit_type', 'NumProcs', 'NumDiagnosis', 'NumRx', 'LOSdays']]"
   ],
   "metadata": {
    "collapsed": false,
    "ExecuteTime": {
     "end_time": "2024-02-28T05:46:35.755921300Z",
     "start_time": "2024-02-28T05:46:35.730172900Z"
    }
   },
   "id": "9535328d2ae9ca1b"
  },
  {
   "cell_type": "code",
   "execution_count": 6,
   "outputs": [
    {
     "name": "stdout",
     "output_type": "stream",
     "text": [
      "              race  gender      age  admission_type_id  num_procedures  \\\n",
      "0        Caucasian  Female   [0-10)                  6               0   \n",
      "1        Caucasian  Female  [10-20)                  1               0   \n",
      "2  AfricanAmerican  Female  [20-30)                  1               5   \n",
      "3        Caucasian    Male  [30-40)                  1               1   \n",
      "4        Caucasian    Male  [40-50)                  1               0   \n",
      "\n",
      "   number_diagnoses  num_medications  time_in_hospital  \n",
      "0                 1                1                 1  \n",
      "1                 9               18                 3  \n",
      "2                 6               13                 2  \n",
      "3                 7               16                 2  \n",
      "4                 5                8                 1  \n",
      "                ethnicity gender  age admit_type  NumProcs  NumDiagnosis  \\\n",
      "0                   WHITE      F   35  EMERGENCY      0.00          2.59   \n",
      "1                   WHITE      M   59  EMERGENCY      0.99          2.23   \n",
      "2  BLACK/AFRICAN AMERICAN      F   48  EMERGENCY      0.17          0.75   \n",
      "3                   WHITE      F   73  EMERGENCY      0.27          0.69   \n",
      "4                   WHITE      M   60  EMERGENCY      0.82          3.69   \n",
      "\n",
      "   NumRx  LOSdays  \n",
      "0  14.91     6.17  \n",
      "1   7.18     4.04  \n",
      "2   6.23    12.04  \n",
      "3  11.52     7.29  \n",
      "4  25.00     4.88  \n"
     ]
    }
   ],
   "source": [
    "print(diabeticDF.head())\n",
    "print(hospitalDF.head())"
   ],
   "metadata": {
    "collapsed": false,
    "ExecuteTime": {
     "end_time": "2024-02-28T05:46:36.540786500Z",
     "start_time": "2024-02-28T05:46:36.476242800Z"
    }
   },
   "id": "bab738ebfd914122"
  },
  {
   "cell_type": "code",
   "execution_count": 7,
   "outputs": [],
   "source": [
    "# Given Admission Type Id numbers and meaning from MIMIC3D files, added to text files\n",
    "# Pre-process admission_type_id\n",
    "# want to change to words rather than id number so more interpretable\n",
    "\n",
    "admission_type_dictionary = {'1':'Emergency', '2': 'Urgent', '3': 'Elective', '4':'Newborn', '5':'Not Available', '6': 'Null', '7': 'Trauma Center', '8':'Not Mapped'}\n",
    "\n",
    "admit_type = []\n",
    "for value in diabeticDF['admission_type_id']:\n",
    "    admit_type.append(admission_type_dictionary[str(value)])\n",
    "\n",
    "diabeticDF['admission_type_id'] = admit_type"
   ],
   "metadata": {
    "collapsed": false,
    "ExecuteTime": {
     "end_time": "2024-02-28T05:46:37.571434800Z",
     "start_time": "2024-02-28T05:46:37.453140100Z"
    }
   },
   "id": "39bee5fba4857472"
  },
  {
   "cell_type": "code",
   "execution_count": 18,
   "outputs": [
    {
     "name": "stdout",
     "output_type": "stream",
     "text": [
      "              race  gender      age admission_type_id  num_procedures  \\\n",
      "0        Caucasian  Female   [0-10)              Null               0   \n",
      "1        Caucasian  Female  [10-20)         Emergency               0   \n",
      "2  AfricanAmerican  Female  [20-30)         Emergency               5   \n",
      "3        Caucasian    Male  [30-40)         Emergency               1   \n",
      "4        Caucasian    Male  [40-50)         Emergency               0   \n",
      "\n",
      "   number_diagnoses  num_medications  time_in_hospital  \n",
      "0                 1                1                 1  \n",
      "1                 9               18                 3  \n",
      "2                 6               13                 2  \n",
      "3                 7               16                 2  \n",
      "4                 5                8                 1  \n"
     ]
    }
   ],
   "source": [
    "print(diabeticDF.head())"
   ],
   "metadata": {
    "collapsed": false,
    "ExecuteTime": {
     "end_time": "2024-02-28T05:23:57.607514300Z",
     "start_time": "2024-02-28T05:23:57.561093200Z"
    }
   },
   "id": "2001183af63dff7d"
  },
  {
   "cell_type": "code",
   "execution_count": null,
   "outputs": [],
   "source": [],
   "metadata": {
    "collapsed": false
   },
   "id": "b1cfd34f9e034bf4"
  }
 ],
 "metadata": {
  "kernelspec": {
   "display_name": "Python 3",
   "language": "python",
   "name": "python3"
  },
  "language_info": {
   "codemirror_mode": {
    "name": "ipython",
    "version": 2
   },
   "file_extension": ".py",
   "mimetype": "text/x-python",
   "name": "python",
   "nbconvert_exporter": "python",
   "pygments_lexer": "ipython2",
   "version": "2.7.6"
  }
 },
 "nbformat": 4,
 "nbformat_minor": 5
}
